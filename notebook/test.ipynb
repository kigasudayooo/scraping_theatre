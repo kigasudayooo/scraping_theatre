{
 "cells": [
  {
   "cell_type": "code",
   "execution_count": null,
   "metadata": {},
   "outputs": [
    {
     "ename": "",
     "evalue": "",
     "output_type": "error",
     "traceback": [
      "\u001b[1;31m'Python 3.13.1' でセルを実行するには、 ipykernel パッケージが必要です。\n",
      "\u001b[1;31m次のコマンドを実行して、'ipykernel' を Python 環境にインストールします。\n",
      "\u001b[1;31mコマンド: '/opt/homebrew/bin/python3 -m pip install ipykernel -U --user --force-reinstall'"
     ]
    }
   ],
   "source": [
    "import pandas as pd\n",
    "from bs4 import BeautifulSoup\n",
    "from datetime import datetime\n",
    "import re\n",
    "\n",
    "\n",
    "def scrape_movie_schedule(html_content):\n",
    "    # BeautifulSoupオブジェクトの作成\n",
    "    soup = BeautifulSoup(html_content, \"html.parser\")\n",
    "\n",
    "    # 映画情報を格納するリスト\n",
    "    movies_data = []\n",
    "\n",
    "    # スケジュール表から情報を取得\n",
    "    schedule_table = soup.find(\"table\", class_=\"sche-table\")\n",
    "\n",
    "    # 日付の取得\n",
    "    dates = []\n",
    "    date_row = schedule_table.find(\"tr\")\n",
    "    for date_cell in date_row.find_all(\"td\", class_=\"sche-td-2\"):\n",
    "        dates.append(date_cell.text.strip())\n",
    "\n",
    "    # 各作品の情報を取得\n",
    "    movie_boxes = soup.find_all(\"div\", class_=\"box\")\n",
    "\n",
    "    for box in movie_boxes:\n",
    "        try:\n",
    "            # 映画のIDを取得\n",
    "            movie_id = box.find(\"a\").get(\"id\")\n",
    "\n",
    "            # タイトルを取得\n",
    "            title_elem = box.find(\"span\", class_=\"eiga-title\")\n",
    "            if title_elem:\n",
    "                title = title_elem.text.strip()\n",
    "            else:\n",
    "                continue\n",
    "\n",
    "            # 基本情報の取得\n",
    "            stuff_elem = box.find(\"p\", class_=\"stuff\")\n",
    "            info = stuff_elem.text.strip() if stuff_elem else \"\"\n",
    "\n",
    "            # 上映時間の取得\n",
    "            day_elem = box.find(\"p\", class_=\"day\")\n",
    "            schedule = day_elem.text.strip() if day_elem else \"\"\n",
    "\n",
    "            # 料金情報の取得\n",
    "            price_elem = box.find(\"p\", class_=\"price\")\n",
    "            price = price_elem.text.strip() if price_elem else \"\"\n",
    "\n",
    "            # データをリストに追加\n",
    "            movies_data.append(\n",
    "                {\n",
    "                    \"id\": movie_id,\n",
    "                    \"title\": title,\n",
    "                    \"info\": info,\n",
    "                    \"schedule\": schedule,\n",
    "                    \"price\": price,\n",
    "                }\n",
    "            )\n",
    "\n",
    "        except Exception as e:\n",
    "            print(f\"Error processing movie: {e}\")\n",
    "\n",
    "    # DataFrameの作成\n",
    "    df = pd.DataFrame(movies_data)\n",
    "    return df\n",
    "\n",
    "\n",
    "# 使用例\n"
   ]
  },
  {
   "cell_type": "code",
   "execution_count": null,
   "metadata": {},
   "outputs": [],
   "source": [
    "html_content = \"https://shimotakaidocinema.com/schedule/schedule.html\"\n",
    "\n",
    "df = scrape_movie_schedule(html_content)\n",
    "df.head()"
   ]
  }
 ],
 "metadata": {
  "kernelspec": {
   "display_name": "Python 3",
   "language": "python",
   "name": "python3"
  },
  "language_info": {
   "name": "python",
   "version": "3.13.1"
  }
 },
 "nbformat": 4,
 "nbformat_minor": 2
}
